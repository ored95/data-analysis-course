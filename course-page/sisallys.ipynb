{
 "cells": [
  {
   "cell_type": "markdown",
   "metadata": {},
   "source": [
    "<!--NAVIGATION-->\n",
    "\n",
    "\n",
    "<a href=\"https://colab.research.google.com/github/saskeli/x/blob/master/sisallys.ipynb\"><img align=\"left\" src=\"https://colab.research.google.com/assets/colab-badge.svg\" alt=\"Open in Colab\" title=\"Open and Execute in Google Colaboratory\"></a>\n",
    "\n"
   ]
  },
  {
   "cell_type": "markdown",
   "metadata": {},
   "source": [
    "# Data analysis with Python\n",
    "\n",
    "- Python\n",
    "    - Basic concepts\n",
    "        - Basic input and output\n",
    "        - Data types and variables\n",
    "        - Expressions and statements\n",
    "        - Flow control and functions\n",
    "        - name spaces\n",
    "        - Data structures: lists, tuples, dictionaries, sets\n",
    "        - List and dictionary comprehensions, and generator expressions\n",
    "        - lambda functions, map, filter, functools.reduce\n",
    "    - String handling\n",
    "    - Regular expressions\n",
    "    - The following topics will only be covered superficially\n",
    "        - File processing\n",
    "        - Objects and classes\n",
    "        - Exceptions\n",
    "        - Modules\n",
    "- Numpy\n",
    "    - Creation of arrays\n",
    "    - Array types and attributes\n",
    "    - Indexing, slicing and reshaping\n",
    "        - a list as an index returns a 2d array, single index a 1d array\n",
    "    - Array concatenation and splitting\n",
    "    - Fast computation using universal functions\n",
    "    - Aggregations: max, min, sum, mean, standard deviation...\n",
    "    - Broadcasting\n",
    "    - Comparisons and masking\n",
    "    - Fancy indexing\n",
    "    - Sorting arrays\n",
    "    - Matrix operations\n",
    "- Linalg (SciPy)\n",
    "    - Solving system of linear equations?\n",
    "    - Solving eigenvalue problems?\n",
    "- Pandas\n",
    "    - Creation of series\n",
    "    - Indexing rows of series\n",
    "    - Creation of dataframes\n",
    "    - Accessing columns of a dataframe. Results in\n",
    "        - a series\n",
    "        - a dataframe with n columns (n=0,1,2,...)\n",
    "    - Other indexing and data selection\n",
    "    - Summary statistics (tässä vai numpy:ssä)\n",
    "    - Missing data\n",
    "    - Catenating datasets\n",
    "    - Aggregates and groupings\n",
    "    - Merging dataframes\n",
    "        \n",
    "- SciKit Learn\n",
    "    - All algorithms of scikit-learn have common interface\n",
    "    - Linear regression\n",
    "    - Naive Bayes classification\n",
    "    - Principal component analysis\n",
    "    - k-means clustering\n",
    "- Projects\n",
    "    - Sequence analysis with Python"
   ]
  },
  {
   "cell_type": "markdown",
   "metadata": {},
   "source": [
    "<!--NAVIGATION-->\n",
    "\n",
    "\n",
    "<a href=\"https://colab.research.google.com/github/saskeli/x/blob/master/sisallys.ipynb\"><img align=\"left\" src=\"https://colab.research.google.com/assets/colab-badge.svg\" alt=\"Open in Colab\" title=\"Open and Execute in Google Colaboratory\"></a>\n"
   ]
  }
 ],
 "metadata": {
  "kernelspec": {
   "display_name": "Python 3",
   "language": "python",
   "name": "python3"
  },
  "language_info": {
   "codemirror_mode": {
    "name": "ipython",
    "version": 3
   },
   "file_extension": ".py",
   "mimetype": "text/x-python",
   "name": "python",
   "nbconvert_exporter": "python",
   "pygments_lexer": "ipython3",
   "version": "3.6.9"
  },
  "varInspector": {
   "cols": {
    "lenName": 16,
    "lenType": 16,
    "lenVar": 40
   },
   "kernels_config": {
    "python": {
     "delete_cmd_postfix": "",
     "delete_cmd_prefix": "del ",
     "library": "var_list.py",
     "varRefreshCmd": "print(var_dic_list())"
    },
    "r": {
     "delete_cmd_postfix": ") ",
     "delete_cmd_prefix": "rm(",
     "library": "var_list.r",
     "varRefreshCmd": "cat(var_dic_list()) "
    }
   },
   "types_to_exclude": [
    "module",
    "function",
    "builtin_function_or_method",
    "instance",
    "_Feature"
   ],
   "window_display": false
  }
 },
 "nbformat": 4,
 "nbformat_minor": 1
}
