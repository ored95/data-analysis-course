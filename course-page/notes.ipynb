{
 "cells": [
  {
   "cell_type": "markdown",
   "metadata": {},
   "source": [
    "<!--NAVIGATION-->\n",
    "\n",
    "\n",
    "<a href=\"https://colab.research.google.com/github/saskeli/x/blob/master/notes.ipynb\"><img align=\"left\" src=\"https://colab.research.google.com/assets/colab-badge.svg\" alt=\"Open in Colab\" title=\"Open and Execute in Google Colaboratory\"></a>\n",
    "\n"
   ]
  },
  {
   "cell_type": "markdown",
   "metadata": {},
   "source": [
    "# Tehtäviä\n",
    "- Mitkä metodit ovat yhteisiä dataframelle ja seriesille, ja mitkä ovat erillisiä.\n",
    "- Iän ja pituuden regressointi\n",
    "- Tulosta tiedostoon taulukkomuotoista dataa, jossa esim. sarakkeet x, x**2 ja x**3, tai kertotaulut\n",
    "- Tee timantti käyttäen eye, transpose ja merge/concat -funktioita"
   ]
  },
  {
   "cell_type": "markdown",
   "metadata": {},
   "source": [
    "- KFold:n parametrit ovat muuttuneet\n",
    "- sklearn.cross_validation -> sklearn.model_selection\n",
    "- self.assertTrue(mock.called) -> mock.assert_called()"
   ]
  },
  {
   "cell_type": "markdown",
   "metadata": {},
   "source": [
    "## Hyvää github.io:n materiaaleissa\n",
    "\n",
    "* Tehtävät saa esiin/piilotettua\n",
    "* lähdekoodin väritys\n",
    "* infolaatikot\n",
    "* koodiesimerkit -> tulostus\n",
    "* \"kirjoita yllä oleva koodi kenttään\" (typonator)\n",
    "* code_states_visualizer_widget toimii ilmeisesti vain javalla\n",
    "* Kysymys? Vastaus. Preferred minimum number of words is ...\n",
    "* vertaisarviointi\n",
    "* crowd sourcing\n",
    "* quiz\n"
   ]
  },
  {
   "cell_type": "markdown",
   "metadata": {},
   "source": [
    "## Mietteitä\n",
    "\n",
    "* Pitääkö ohjelmien tarkistaa syötteiden järkevyys va voiko olettaa että syötteen ovat järkeviä. Jälkimmäinen vaihtoehto on Pythonmaisempi"
   ]
  },
  {
   "cell_type": "markdown",
   "metadata": {},
   "source": [
    "<!--NAVIGATION-->\n",
    "\n",
    "\n",
    "<a href=\"https://colab.research.google.com/github/saskeli/x/blob/master/notes.ipynb\"><img align=\"left\" src=\"https://colab.research.google.com/assets/colab-badge.svg\" alt=\"Open in Colab\" title=\"Open and Execute in Google Colaboratory\"></a>\n"
   ]
  }
 ],
 "metadata": {
  "kernelspec": {
   "display_name": "Python 3",
   "language": "python",
   "name": "python3"
  },
  "language_info": {
   "codemirror_mode": {
    "name": "ipython",
    "version": 3
   },
   "file_extension": ".py",
   "mimetype": "text/x-python",
   "name": "python",
   "nbconvert_exporter": "python",
   "pygments_lexer": "ipython3",
   "version": "3.6.7"
  }
 },
 "nbformat": 4,
 "nbformat_minor": 2
}
