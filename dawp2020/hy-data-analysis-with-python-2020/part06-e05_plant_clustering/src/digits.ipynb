{
 "metadata": {
  "language_info": {
   "codemirror_mode": {
    "name": "ipython",
    "version": 3
   },
   "file_extension": ".py",
   "mimetype": "text/x-python",
   "name": "python",
   "nbconvert_exporter": "python",
   "pygments_lexer": "ipython3",
   "version": "3.8.5"
  },
  "orig_nbformat": 2,
  "kernelspec": {
   "name": "python3",
   "display_name": "Python 3.8.5 64-bit ('base': conda)",
   "metadata": {
    "interpreter": {
     "hash": "1978c14786ad12c8287fb9d4115347ff20f6bd9c00faa97f639e9d8c980d7e61"
    }
   }
  }
 },
 "nbformat": 4,
 "nbformat_minor": 2,
 "cells": [
  {
   "cell_type": "code",
   "execution_count": 27,
   "metadata": {},
   "outputs": [],
   "source": [
    "import numpy as np\n",
    "import matplotlib.pyplot as plt\n",
    "%matplotlib inline"
   ]
  },
  {
   "cell_type": "code",
   "execution_count": 28,
   "metadata": {},
   "outputs": [
    {
     "output_type": "execute_result",
     "data": {
      "text/plain": [
       "(1797, 64)"
      ]
     },
     "metadata": {},
     "execution_count": 28
    }
   ],
   "source": [
    "# Using scikit-learn we can download a set of 1797 images of handwritten digits \n",
    "# with the correct labels 0,1,…,9. The images have quite a low resolution: 8*8=64 pixels. \n",
    "# Let’s see how our machine learning method works with this kind of data.\n",
    "from sklearn.datasets import load_digits\n",
    "digits = load_digits()\n",
    "digits.data.shape"
   ]
  },
  {
   "cell_type": "code",
   "execution_count": 29,
   "metadata": {},
   "outputs": [
    {
     "output_type": "display_data",
     "data": {
      "text/plain": "<Figure size 432x288 with 10 Axes>",
      "image/svg+xml": "<?xml version=\"1.0\" encoding=\"utf-8\" standalone=\"no\"?>\r\n<!DOCTYPE svg PUBLIC \"-//W3C//DTD SVG 1.1//EN\"\r\n  \"http://www.w3.org/Graphics/SVG/1.1/DTD/svg11.dtd\">\r\n<!-- Created with matplotlib (https://matplotlib.org/) -->\r\n<svg height=\"194.227774pt\" version=\"1.1\" viewBox=\"0 0 352.7 194.227774\" width=\"352.7pt\" xmlns=\"http://www.w3.org/2000/svg\" xmlns:xlink=\"http://www.w3.org/1999/xlink\">\r\n <metadata>\r\n  <rdf:RDF xmlns:cc=\"http://creativecommons.org/ns#\" xmlns:dc=\"http://purl.org/dc/elements/1.1/\" xmlns:rdf=\"http://www.w3.org/1999/02/22-rdf-syntax-ns#\">\r\n   <cc:Work>\r\n    <dc:type rdf:resource=\"http://purl.org/dc/dcmitype/StillImage\"/>\r\n    <dc:date>2021-03-28T15:02:30.722388</dc:date>\r\n    <dc:format>image/svg+xml</dc:format>\r\n    <dc:creator>\r\n     <cc:Agent>\r\n      <dc:title>Matplotlib v3.3.2, https://matplotlib.org/</dc:title>\r\n     </cc:Agent>\r\n    </dc:creator>\r\n   </cc:Work>\r\n  </rdf:RDF>\r\n </metadata>\r\n <defs>\r\n  <style type=\"text/css\">*{stroke-linecap:butt;stroke-linejoin:round;}</style>\r\n </defs>\r\n <g id=\"figure_1\">\r\n  <g id=\"patch_1\">\r\n   <path d=\"M 0 194.227774 \r\nL 352.7 194.227774 \r\nL 352.7 0 \r\nL 0 0 \r\nz\r\n\" style=\"fill:none;\"/>\r\n  </g>\r\n  <g id=\"axes_1\">\r\n   <g id=\"patch_2\">\r\n    <path d=\"M 10.7 64.924138 \r\nL 68.424138 64.924138 \r\nL 68.424138 7.2 \r\nL 10.7 7.2 \r\nz\r\n\" style=\"fill:#ffffff;\"/>\r\n   </g>\r\n   <g clip-path=\"url(#p5e663e2632)\">\r\n    <image height=\"58\" id=\"image06f1658731\" transform=\"scale(1 -1)translate(0 -58)\" width=\"58\" x=\"10.7\" xlink:href=\"data:image/png;base64,\r\niVBORw0KGgoAAAANSUhEUgAAADoAAAA6CAYAAADhu0ooAAABMklEQVR4nO2ZUQ2DQBBEt00NgAQsgAQsgASQABLAAhaQABJAAlhAQqtg55KjTZrZfb8T9u5lPybXPkTkLRE0TQPzruvUbN93NavrOuY6QZ4/mfqHuCgbLsqGGdGHgHrJskz9cNs2OLhtWzWrqkrN0JlFUcAzEWY26qJsuCgbLsrGC4Wo09BTS0Rknmc1W9dVzZZlUTP09BMRGcdRzcxs1EXZcFE2zIjCekmSRM1C9YK4ritqLrpPCDMbdVE2XJQNM6KwXlANlGX59cuEzryDmY26KBsuyoYZ0eh6yfMcDkY/rJ3nGTX3zovJzEZdlA0XZcNF2YA9inoLdaGIyHEcaob+gELPv2ma4JkIMxt1UTZclA0zorBeEH3fw3wYBjVDz780TaO+C2Fmoy7KhouyYUb0A7akR4Cod7b0AAAAAElFTkSuQmCC\" y=\"-6.924138\"/>\r\n   </g>\r\n   <g id=\"matplotlib.axis_1\"/>\r\n   <g id=\"matplotlib.axis_2\"/>\r\n   <g id=\"patch_3\">\r\n    <path d=\"M 10.7 64.924138 \r\nL 10.7 7.2 \r\n\" style=\"fill:none;stroke:#000000;stroke-linecap:square;stroke-linejoin:miter;stroke-width:0.8;\"/>\r\n   </g>\r\n   <g id=\"patch_4\">\r\n    <path d=\"M 68.424138 64.924138 \r\nL 68.424138 7.2 \r\n\" style=\"fill:none;stroke:#000000;stroke-linecap:square;stroke-linejoin:miter;stroke-width:0.8;\"/>\r\n   </g>\r\n   <g id=\"patch_5\">\r\n    <path d=\"M 10.7 64.924138 \r\nL 68.424138 64.924138 \r\n\" style=\"fill:none;stroke:#000000;stroke-linecap:square;stroke-linejoin:miter;stroke-width:0.8;\"/>\r\n   </g>\r\n   <g id=\"patch_6\">\r\n    <path d=\"M 10.7 7.2 \r\nL 68.424138 7.2 \r\n\" style=\"fill:none;stroke:#000000;stroke-linecap:square;stroke-linejoin:miter;stroke-width:0.8;\"/>\r\n   </g>\r\n  </g>\r\n  <g id=\"axes_2\">\r\n   <g id=\"patch_7\">\r\n    <path d=\"M 79.968966 64.924138 \r\nL 137.693103 64.924138 \r\nL 137.693103 7.2 \r\nL 79.968966 7.2 \r\nz\r\n\" style=\"fill:#ffffff;\"/>\r\n   </g>\r\n   <g clip-path=\"url(#p542b31000b)\">\r\n    <image height=\"58\" id=\"image7003310980\" transform=\"scale(1 -1)translate(0 -58)\" width=\"58\" x=\"79.968966\" xlink:href=\"data:image/png;base64,\r\niVBORw0KGgoAAAANSUhEUgAAADoAAAA6CAYAAADhu0ooAAAA+UlEQVR4nO2ayw2EMAxEw4o7lEInaQE6SAkpBTqgg6QE6IQOdg97tiNZm8OO511Hifzkg5XPEEJ4hw6c5ylmMUYxO45DzNZ1NdfzMq/8MyiKBkXRcCM6WhfO86zm2gjRqLWa1rVw01GKokFRNCiKBkXRoCgaFEXDjaj5mNaL67q67OumoxRFg6JouBFVx0tKScxyzj8u5cvzPF32ddNRiqJBUTTciA7B+IdhWRY11x6LpmkSs23bxGzf90ZVMm46SlE0KIoGRdEw3wK2buu0Oap95GjNZytuOkpRNCiKhhvRbo9M2l/B+77FrJTSoRpHHaUoGhRFw43oB0BqJPUsT+m6AAAAAElFTkSuQmCC\" y=\"-6.924138\"/>\r\n   </g>\r\n   <g id=\"matplotlib.axis_3\"/>\r\n   <g id=\"matplotlib.axis_4\"/>\r\n   <g id=\"patch_8\">\r\n    <path d=\"M 79.968966 64.924138 \r\nL 79.968966 7.2 \r\n\" style=\"fill:none;stroke:#000000;stroke-linecap:square;stroke-linejoin:miter;stroke-width:0.8;\"/>\r\n   </g>\r\n   <g id=\"patch_9\">\r\n    <path d=\"M 137.693103 64.924138 \r\nL 137.693103 7.2 \r\n\" style=\"fill:none;stroke:#000000;stroke-linecap:square;stroke-linejoin:miter;stroke-width:0.8;\"/>\r\n   </g>\r\n   <g id=\"patch_10\">\r\n    <path d=\"M 79.968966 64.924138 \r\nL 137.693103 64.924138 \r\n\" style=\"fill:none;stroke:#000000;stroke-linecap:square;stroke-linejoin:miter;stroke-width:0.8;\"/>\r\n   </g>\r\n   <g id=\"patch_11\">\r\n    <path d=\"M 79.968966 7.2 \r\nL 137.693103 7.2 \r\n\" style=\"fill:none;stroke:#000000;stroke-linecap:square;stroke-linejoin:miter;stroke-width:0.8;\"/>\r\n   </g>\r\n  </g>\r\n  <g id=\"axes_3\">\r\n   <g id=\"patch_12\">\r\n    <path d=\"M 149.237931 64.924138 \r\nL 206.962069 64.924138 \r\nL 206.962069 7.2 \r\nL 149.237931 7.2 \r\nz\r\n\" style=\"fill:#ffffff;\"/>\r\n   </g>\r\n   <g clip-path=\"url(#p4927f559d4)\">\r\n    <image height=\"58\" id=\"imagee9a5710a1f\" transform=\"scale(1 -1)translate(0 -58)\" width=\"58\" x=\"149.237931\" xlink:href=\"data:image/png;base64,\r\niVBORw0KGgoAAAANSUhEUgAAADoAAAA6CAYAAADhu0ooAAABNUlEQVR4nO2aQY2FQBBEi80KQAIOwAIKQAIScMCXAA6QAArAAUhAAijYVdBFMpu9VPe7VpiZlz5UmEwG4Af/QFVVZvb5fMysaRozm6aJ7tn3vZl90S+FCFE1QlQNN6LfLGQVMc8zXbgsy5TzYF1XM9u2LWlNwNFEQ1SNEFUjRNWgPdp1nZml9iQAtG1rZqxH/4KbiYaoGiGqhhvRDOQWMM9z80N24wbwCimKIim775vuyXAz0RBVI0TVcCNK64XBqgfg9TKOo5nt+5605htuJhqiaoSoGm5Ek+uFvUMAeBUsy2JmwzCYWZZlL6eycTPREFUjRNUIUTWSe5Q95ACA4zjM7HkeM2M3feyG8A03Ew1RNUJUDTei9A0D4zxPmtd1bWbsN+26rrQDveBmoiGqRoiq4Ub0F0cJOlEsSAfrAAAAAElFTkSuQmCC\" y=\"-6.924138\"/>\r\n   </g>\r\n   <g id=\"matplotlib.axis_5\"/>\r\n   <g id=\"matplotlib.axis_6\"/>\r\n   <g id=\"patch_13\">\r\n    <path d=\"M 149.237931 64.924138 \r\nL 149.237931 7.2 \r\n\" style=\"fill:none;stroke:#000000;stroke-linecap:square;stroke-linejoin:miter;stroke-width:0.8;\"/>\r\n   </g>\r\n   <g id=\"patch_14\">\r\n    <path d=\"M 206.962069 64.924138 \r\nL 206.962069 7.2 \r\n\" style=\"fill:none;stroke:#000000;stroke-linecap:square;stroke-linejoin:miter;stroke-width:0.8;\"/>\r\n   </g>\r\n   <g id=\"patch_15\">\r\n    <path d=\"M 149.237931 64.924138 \r\nL 206.962069 64.924138 \r\n\" style=\"fill:none;stroke:#000000;stroke-linecap:square;stroke-linejoin:miter;stroke-width:0.8;\"/>\r\n   </g>\r\n   <g id=\"patch_16\">\r\n    <path d=\"M 149.237931 7.2 \r\nL 206.962069 7.2 \r\n\" style=\"fill:none;stroke:#000000;stroke-linecap:square;stroke-linejoin:miter;stroke-width:0.8;\"/>\r\n   </g>\r\n  </g>\r\n  <g id=\"axes_4\">\r\n   <g id=\"patch_17\">\r\n    <path d=\"M 218.506897 64.924138 \r\nL 276.231034 64.924138 \r\nL 276.231034 7.2 \r\nL 218.506897 7.2 \r\nz\r\n\" style=\"fill:#ffffff;\"/>\r\n   </g>\r\n   <g clip-path=\"url(#p2465798a42)\">\r\n    <image height=\"58\" id=\"image65f7ecc173\" transform=\"scale(1 -1)translate(0 -58)\" width=\"58\" x=\"218.506897\" xlink:href=\"data:image/png;base64,\r\niVBORw0KGgoAAAANSUhEUgAAADoAAAA6CAYAAADhu0ooAAABGUlEQVR4nO2aUQ2DQBBElwYDWEALSAAJIAEsIOG0gAUkgAUktApurtmkH52d97u5vb5swmSbq8zsbQ6WZYH1aZo8be04jmxtnmdXTzOzl/vknyFRNiTKRhjR2nuwaRpYR1GAzqaUvD8J3hlmohJlQ6JsSJQNd46u6+q+FOUoWtOe53HfGWaiEmVDomyEEa3M+S9gCRQh+767evZ9D+sofsJMVKJsSJSNMKLu7aVtW1i/ritbQxvKOI7ZmraXL5AoGxJlI4wojBcUIaVP/X3fP+nrJcxEJcqGRNmQKBswR9F7vmEYYONt27I19CCj67psDa13JcJMVKJsSJSNMKIwXtA7hdI6hSIErXDnecK+XsJMVKJsSJSNMKIfeyM/TLyyXfQAAAAASUVORK5CYII=\" y=\"-6.924138\"/>\r\n   </g>\r\n   <g id=\"matplotlib.axis_7\"/>\r\n   <g id=\"matplotlib.axis_8\"/>\r\n   <g id=\"patch_18\">\r\n    <path d=\"M 218.506897 64.924138 \r\nL 218.506897 7.2 \r\n\" style=\"fill:none;stroke:#000000;stroke-linecap:square;stroke-linejoin:miter;stroke-width:0.8;\"/>\r\n   </g>\r\n   <g id=\"patch_19\">\r\n    <path d=\"M 276.231034 64.924138 \r\nL 276.231034 7.2 \r\n\" style=\"fill:none;stroke:#000000;stroke-linecap:square;stroke-linejoin:miter;stroke-width:0.8;\"/>\r\n   </g>\r\n   <g id=\"patch_20\">\r\n    <path d=\"M 218.506897 64.924138 \r\nL 276.231034 64.924138 \r\n\" style=\"fill:none;stroke:#000000;stroke-linecap:square;stroke-linejoin:miter;stroke-width:0.8;\"/>\r\n   </g>\r\n   <g id=\"patch_21\">\r\n    <path d=\"M 218.506897 7.2 \r\nL 276.231034 7.2 \r\n\" style=\"fill:none;stroke:#000000;stroke-linecap:square;stroke-linejoin:miter;stroke-width:0.8;\"/>\r\n   </g>\r\n  </g>\r\n  <g id=\"axes_5\">\r\n   <g id=\"patch_22\">\r\n    <path d=\"M 287.775862 64.924138 \r\nL 345.5 64.924138 \r\nL 345.5 7.2 \r\nL 287.775862 7.2 \r\nz\r\n\" style=\"fill:#ffffff;\"/>\r\n   </g>\r\n   <g clip-path=\"url(#p409fd2e4d5)\">\r\n    <image height=\"58\" id=\"image8ed48e31e9\" transform=\"scale(1 -1)translate(0 -58)\" width=\"58\" x=\"287.775862\" xlink:href=\"data:image/png;base64,\r\niVBORw0KGgoAAAANSUhEUgAAADoAAAA6CAYAAADhu0ooAAABLklEQVR4nO2aSxGEQAxEw9beAQc4wAI4QAIWcIAEcAAOwAEWUAASQAGrIM3WbHHYpN+1az6vckjNJxKRSx4gyzI127ZNzcqyVLNlWYL38woe+WdQ1BoUtYYb0fdTEydJombneapZXddqxvbyBRS1BkWtQVFrRAKOaUVRqAOnaYITx3GsZuu6qlme52qWpilc8zgONXNTUYpag6LWcCMKj2moRaBMRGQcRzVDR7Hr0i8lq6qCaw7DoGZuKkpRa1DUGm5EYXuZ51nNmqaBE7dtG7Shvu/VDD1c3eGmohS1BkWt4UYUXo4h0COSCH4Q6rouaNwd+76rmZuKUtQaFLUGRa0R/FkDPeiI4Bs5dNxCvfAX3FSUotagqDXciD72FxC1F5Q9hZuKUtQaFLWGG9EPZ4I9bz9T5tEAAAAASUVORK5CYII=\" y=\"-6.924138\"/>\r\n   </g>\r\n   <g id=\"matplotlib.axis_9\"/>\r\n   <g id=\"matplotlib.axis_10\"/>\r\n   <g id=\"patch_23\">\r\n    <path d=\"M 287.775862 64.924138 \r\nL 287.775862 7.2 \r\n\" style=\"fill:none;stroke:#000000;stroke-linecap:square;stroke-linejoin:miter;stroke-width:0.8;\"/>\r\n   </g>\r\n   <g id=\"patch_24\">\r\n    <path d=\"M 345.5 64.924138 \r\nL 345.5 7.2 \r\n\" style=\"fill:none;stroke:#000000;stroke-linecap:square;stroke-linejoin:miter;stroke-width:0.8;\"/>\r\n   </g>\r\n   <g id=\"patch_25\">\r\n    <path d=\"M 287.775862 64.924138 \r\nL 345.5 64.924138 \r\n\" style=\"fill:none;stroke:#000000;stroke-linecap:square;stroke-linejoin:miter;stroke-width:0.8;\"/>\r\n   </g>\r\n   <g id=\"patch_26\">\r\n    <path d=\"M 287.775862 7.2 \r\nL 345.5 7.2 \r\n\" style=\"fill:none;stroke:#000000;stroke-linecap:square;stroke-linejoin:miter;stroke-width:0.8;\"/>\r\n   </g>\r\n  </g>\r\n  <g id=\"axes_6\">\r\n   <g id=\"patch_27\">\r\n    <path d=\"M 10.7 183.527774 \r\nL 68.424138 183.527774 \r\nL 68.424138 125.803636 \r\nL 10.7 125.803636 \r\nz\r\n\" style=\"fill:#ffffff;\"/>\r\n   </g>\r\n   <g clip-path=\"url(#pd530e265e5)\">\r\n    <image height=\"58\" id=\"image1725d4c997\" transform=\"scale(1 -1)translate(0 -58)\" width=\"58\" x=\"10.7\" xlink:href=\"data:image/png;base64,\r\niVBORw0KGgoAAAANSUhEUgAAADoAAAA6CAYAAADhu0ooAAABIklEQVR4nO2aQQ2DUBBEt03vIAEJOAAUYAEHgAMkgAQc4ACkIAEUtAp2f7JND52dd52w5GUPE/7nISJvcTDPs5n3fe8ZK+u6qlnXda6ZIiJP95N/BkXRoCgaYUQf4qyXtm3N/L5vNZumSc2qqlKzpmnMdx7HoWZhNkpRNCiKBkXRcPfoN9R1rWb7vqvZsizm3GEY1CzMRimKBkXRCCP6+tVgq0LKsnTNPM/T9ZxIoI1SFA2KohFG1F0v27aZeeqUUGMcRzVLXWxZhNkoRdGgKBphRN31UhSF+6XWBZT1ZZPnuTn3ui41C7NRiqJBUTQoioa7R1OdZpFlmZpZp4dWT6YIs1GKokFRNMKIuusldeFj/Zf3zS/jXsJslKJoUBSNMKIfcMYzGTmalMkAAAAASUVORK5CYII=\" y=\"-125.527774\"/>\r\n   </g>\r\n   <g id=\"matplotlib.axis_11\"/>\r\n   <g id=\"matplotlib.axis_12\"/>\r\n   <g id=\"patch_28\">\r\n    <path d=\"M 10.7 183.527774 \r\nL 10.7 125.803636 \r\n\" style=\"fill:none;stroke:#000000;stroke-linecap:square;stroke-linejoin:miter;stroke-width:0.8;\"/>\r\n   </g>\r\n   <g id=\"patch_29\">\r\n    <path d=\"M 68.424138 183.527774 \r\nL 68.424138 125.803636 \r\n\" style=\"fill:none;stroke:#000000;stroke-linecap:square;stroke-linejoin:miter;stroke-width:0.8;\"/>\r\n   </g>\r\n   <g id=\"patch_30\">\r\n    <path d=\"M 10.7 183.527774 \r\nL 68.424138 183.527774 \r\n\" style=\"fill:none;stroke:#000000;stroke-linecap:square;stroke-linejoin:miter;stroke-width:0.8;\"/>\r\n   </g>\r\n   <g id=\"patch_31\">\r\n    <path d=\"M 10.7 125.803636 \r\nL 68.424138 125.803636 \r\n\" style=\"fill:none;stroke:#000000;stroke-linecap:square;stroke-linejoin:miter;stroke-width:0.8;\"/>\r\n   </g>\r\n  </g>\r\n  <g id=\"axes_7\">\r\n   <g id=\"patch_32\">\r\n    <path d=\"M 79.968966 183.527774 \r\nL 137.693103 183.527774 \r\nL 137.693103 125.803636 \r\nL 79.968966 125.803636 \r\nz\r\n\" style=\"fill:#ffffff;\"/>\r\n   </g>\r\n   <g clip-path=\"url(#p209f30482d)\">\r\n    <image height=\"58\" id=\"image51f0684eef\" transform=\"scale(1 -1)translate(0 -58)\" width=\"58\" x=\"79.968966\" xlink:href=\"data:image/png;base64,\r\niVBORw0KGgoAAAANSUhEUgAAADoAAAA6CAYAAADhu0ooAAABEElEQVR4nO2aUQ2EQAxEy+X+QQIOQAISkIADJICkxQESkIAEHNwp6JCU8DOd9zvhNi9NbrLNVmb2swBN08B8XVc3m6bJzfZ9D/2mmdlxHG72gV8SIVE2JMpGGtFv9ENUEWZm8zy72bZtbjYMg5uN4wjPVL2YRPmQKBsSZeO1HkW0betmdV27WSklfGaaiUqUDYmykUa0suAW8LoumKMrE6oJlJ3nCc9EpJmoRNmQKBtpRMP1cvdXj+qn7/vIkY9IM1GJsiFRNtKIhpdjd7eXruvcDNULuvU8Ic1EJcqGRNmQKBvhHl2WBeZom4ceXahHHyJRNiTKRhrR8BbwDvRkHD1Tf2tDmGaiEmVDomykEf0DX4g8HBXkWLIAAAAASUVORK5CYII=\" y=\"-125.527774\"/>\r\n   </g>\r\n   <g id=\"matplotlib.axis_13\"/>\r\n   <g id=\"matplotlib.axis_14\"/>\r\n   <g id=\"patch_33\">\r\n    <path d=\"M 79.968966 183.527774 \r\nL 79.968966 125.803636 \r\n\" style=\"fill:none;stroke:#000000;stroke-linecap:square;stroke-linejoin:miter;stroke-width:0.8;\"/>\r\n   </g>\r\n   <g id=\"patch_34\">\r\n    <path d=\"M 137.693103 183.527774 \r\nL 137.693103 125.803636 \r\n\" style=\"fill:none;stroke:#000000;stroke-linecap:square;stroke-linejoin:miter;stroke-width:0.8;\"/>\r\n   </g>\r\n   <g id=\"patch_35\">\r\n    <path d=\"M 79.968966 183.527774 \r\nL 137.693103 183.527774 \r\n\" style=\"fill:none;stroke:#000000;stroke-linecap:square;stroke-linejoin:miter;stroke-width:0.8;\"/>\r\n   </g>\r\n   <g id=\"patch_36\">\r\n    <path d=\"M 79.968966 125.803636 \r\nL 137.693103 125.803636 \r\n\" style=\"fill:none;stroke:#000000;stroke-linecap:square;stroke-linejoin:miter;stroke-width:0.8;\"/>\r\n   </g>\r\n  </g>\r\n  <g id=\"axes_8\">\r\n   <g id=\"patch_37\">\r\n    <path d=\"M 149.237931 183.527774 \r\nL 206.962069 183.527774 \r\nL 206.962069 125.803636 \r\nL 149.237931 125.803636 \r\nz\r\n\" style=\"fill:#ffffff;\"/>\r\n   </g>\r\n   <g clip-path=\"url(#pea602630f5)\">\r\n    <image height=\"58\" id=\"image10a457b8fa\" transform=\"scale(1 -1)translate(0 -58)\" width=\"58\" x=\"149.237931\" xlink:href=\"data:image/png;base64,\r\niVBORw0KGgoAAAANSUhEUgAAADoAAAA6CAYAAADhu0ooAAABFElEQVR4nO2aUQ2EQAxEy+UEIAEHWEACUnCABSSAA3CABKSAAk5BZ5OSu0um834burz0o5nsVmZ2W4DjOGB9HEe3tm1b5MhHvH5+4p+QKBsSZSON6Dv64b7vsL4si1trmsatnecZ+6ECaSYqUTYkyoZE2agsGNNK3Lfftu97t/atCJdmohJlQ6JspBGF6wXFqWmaYOOu60I/hFZPKRoi0kxUomxIlI00onC9oBURXR9mZsMwfOW7eZ7dWpqJSpQNibKRRhReMqG08CRJIFB6Wdc13DfNRCXKhkTZkCgb4UumaNQyw+8IUd+6rmFfFB3TTFSibEiUjTSi4beAJdAqQBdUbdu6teu6wmemmahE2ZAoG2lEPw0aN7RQtGh6AAAAAElFTkSuQmCC\" y=\"-125.527774\"/>\r\n   </g>\r\n   <g id=\"matplotlib.axis_15\"/>\r\n   <g id=\"matplotlib.axis_16\"/>\r\n   <g id=\"patch_38\">\r\n    <path d=\"M 149.237931 183.527774 \r\nL 149.237931 125.803636 \r\n\" style=\"fill:none;stroke:#000000;stroke-linecap:square;stroke-linejoin:miter;stroke-width:0.8;\"/>\r\n   </g>\r\n   <g id=\"patch_39\">\r\n    <path d=\"M 206.962069 183.527774 \r\nL 206.962069 125.803636 \r\n\" style=\"fill:none;stroke:#000000;stroke-linecap:square;stroke-linejoin:miter;stroke-width:0.8;\"/>\r\n   </g>\r\n   <g id=\"patch_40\">\r\n    <path d=\"M 149.237931 183.527774 \r\nL 206.962069 183.527774 \r\n\" style=\"fill:none;stroke:#000000;stroke-linecap:square;stroke-linejoin:miter;stroke-width:0.8;\"/>\r\n   </g>\r\n   <g id=\"patch_41\">\r\n    <path d=\"M 149.237931 125.803636 \r\nL 206.962069 125.803636 \r\n\" style=\"fill:none;stroke:#000000;stroke-linecap:square;stroke-linejoin:miter;stroke-width:0.8;\"/>\r\n   </g>\r\n  </g>\r\n  <g id=\"axes_9\">\r\n   <g id=\"patch_42\">\r\n    <path d=\"M 218.506897 183.527774 \r\nL 276.231034 183.527774 \r\nL 276.231034 125.803636 \r\nL 218.506897 125.803636 \r\nz\r\n\" style=\"fill:#ffffff;\"/>\r\n   </g>\r\n   <g clip-path=\"url(#p4acda654d3)\">\r\n    <image height=\"58\" id=\"image0383de5c51\" transform=\"scale(1 -1)translate(0 -58)\" width=\"58\" x=\"218.506897\" xlink:href=\"data:image/png;base64,\r\niVBORw0KGgoAAAANSUhEUgAAADoAAAA6CAYAAADhu0ooAAABMElEQVR4nO2aQZGFMBBE52/tHSSAExxgAQlIAAdfAjjAAaAAcIAEULCrYDpVOfb0u3Yl4dUcpibhY2Z/lsGyLDBv29bN3vd1s23b3KzrOnjm8zxu9gNXEiFRNiTKRhjRj4H2Upalu/C+b7hxVVVZ2XEcbjaOIzxzGAY3C1NRibIhUTYkysYvClG/K4oCbtz3fda+13W52TRN8ExEmIpKlA2JshFGFI5piKZpYL6ua862Vte1m6VGQ0SYikqUDYmyEUYUTi8I9KCTYt93N0OPTKmWhtpPmIpKlA2JshFGNLu9pP4nmOc5ay1qW+hSzUztxcwkyodE2ZAoG9m3gGicMkv3PA/UC1NjGiJMRSXKhkTZCCOaPaad5wlz1F7Qvwjf7zfre1KEqahE2ZAoG2FE/wEFSkcL6onu2QAAAABJRU5ErkJggg==\" y=\"-125.527774\"/>\r\n   </g>\r\n   <g id=\"matplotlib.axis_17\"/>\r\n   <g id=\"matplotlib.axis_18\"/>\r\n   <g id=\"patch_43\">\r\n    <path d=\"M 218.506897 183.527774 \r\nL 218.506897 125.803636 \r\n\" style=\"fill:none;stroke:#000000;stroke-linecap:square;stroke-linejoin:miter;stroke-width:0.8;\"/>\r\n   </g>\r\n   <g id=\"patch_44\">\r\n    <path d=\"M 276.231034 183.527774 \r\nL 276.231034 125.803636 \r\n\" style=\"fill:none;stroke:#000000;stroke-linecap:square;stroke-linejoin:miter;stroke-width:0.8;\"/>\r\n   </g>\r\n   <g id=\"patch_45\">\r\n    <path d=\"M 218.506897 183.527774 \r\nL 276.231034 183.527774 \r\n\" style=\"fill:none;stroke:#000000;stroke-linecap:square;stroke-linejoin:miter;stroke-width:0.8;\"/>\r\n   </g>\r\n   <g id=\"patch_46\">\r\n    <path d=\"M 218.506897 125.803636 \r\nL 276.231034 125.803636 \r\n\" style=\"fill:none;stroke:#000000;stroke-linecap:square;stroke-linejoin:miter;stroke-width:0.8;\"/>\r\n   </g>\r\n  </g>\r\n  <g id=\"axes_10\">\r\n   <g id=\"patch_47\">\r\n    <path d=\"M 287.775862 183.527774 \r\nL 345.5 183.527774 \r\nL 345.5 125.803636 \r\nL 287.775862 125.803636 \r\nz\r\n\" style=\"fill:#ffffff;\"/>\r\n   </g>\r\n   <g clip-path=\"url(#p136543e668)\">\r\n    <image height=\"58\" id=\"imageae998001b7\" transform=\"scale(1 -1)translate(0 -58)\" width=\"58\" x=\"287.775862\" xlink:href=\"data:image/png;base64,\r\niVBORw0KGgoAAAANSUhEUgAAADoAAAA6CAYAAADhu0ooAAABFklEQVR4nO2aQQ2EUAxEy2YFgAMcgAQkIAFJ4AQJSAAF4GRXQedvSjjsdN61+ZSXHia/UJnZxwLM8wzrfd+7tbqu3do0TW5t33fYE/EKn/wzJMqGRNlII1pZMF7ugKIJxcs4jvC527a5tTQTlSgbEmVDomw8lqPomoauWyhj27aFPVHOppmoRNmQKBtpRN/Rg6WNXNd1bm1ZFreGrmkoskqkmahE2ZAoG2lEYbygj0EoPszMmqZxa+u6wrMe13WFzpklmqhE2ZAoG2lEYbyUllEIFCEoJu70RKSZqETZkCgbEmUDfmRCmXae5wOvY3Ych1vTFvAHJMqGRNlIIxr+h6G0yUMbxGEYIi1vkWaiEmVDomykEf0CO4Ax4URz8+YAAAAASUVORK5CYII=\" y=\"-125.527774\"/>\r\n   </g>\r\n   <g id=\"matplotlib.axis_19\"/>\r\n   <g id=\"matplotlib.axis_20\"/>\r\n   <g id=\"patch_48\">\r\n    <path d=\"M 287.775862 183.527774 \r\nL 287.775862 125.803636 \r\n\" style=\"fill:none;stroke:#000000;stroke-linecap:square;stroke-linejoin:miter;stroke-width:0.8;\"/>\r\n   </g>\r\n   <g id=\"patch_49\">\r\n    <path d=\"M 345.5 183.527774 \r\nL 345.5 125.803636 \r\n\" style=\"fill:none;stroke:#000000;stroke-linecap:square;stroke-linejoin:miter;stroke-width:0.8;\"/>\r\n   </g>\r\n   <g id=\"patch_50\">\r\n    <path d=\"M 287.775862 183.527774 \r\nL 345.5 183.527774 \r\n\" style=\"fill:none;stroke:#000000;stroke-linecap:square;stroke-linejoin:miter;stroke-width:0.8;\"/>\r\n   </g>\r\n   <g id=\"patch_51\">\r\n    <path d=\"M 287.775862 125.803636 \r\nL 345.5 125.803636 \r\n\" style=\"fill:none;stroke:#000000;stroke-linecap:square;stroke-linejoin:miter;stroke-width:0.8;\"/>\r\n   </g>\r\n  </g>\r\n </g>\r\n <defs>\r\n  <clipPath id=\"p5e663e2632\">\r\n   <rect height=\"57.724138\" width=\"57.724138\" x=\"10.7\" y=\"7.2\"/>\r\n  </clipPath>\r\n  <clipPath id=\"p542b31000b\">\r\n   <rect height=\"57.724138\" width=\"57.724138\" x=\"79.968966\" y=\"7.2\"/>\r\n  </clipPath>\r\n  <clipPath id=\"p4927f559d4\">\r\n   <rect height=\"57.724138\" width=\"57.724138\" x=\"149.237931\" y=\"7.2\"/>\r\n  </clipPath>\r\n  <clipPath id=\"p2465798a42\">\r\n   <rect height=\"57.724138\" width=\"57.724138\" x=\"218.506897\" y=\"7.2\"/>\r\n  </clipPath>\r\n  <clipPath id=\"p409fd2e4d5\">\r\n   <rect height=\"57.724138\" width=\"57.724138\" x=\"287.775862\" y=\"7.2\"/>\r\n  </clipPath>\r\n  <clipPath id=\"pd530e265e5\">\r\n   <rect height=\"57.724138\" width=\"57.724138\" x=\"10.7\" y=\"125.803636\"/>\r\n  </clipPath>\r\n  <clipPath id=\"p209f30482d\">\r\n   <rect height=\"57.724138\" width=\"57.724138\" x=\"79.968966\" y=\"125.803636\"/>\r\n  </clipPath>\r\n  <clipPath id=\"pea602630f5\">\r\n   <rect height=\"57.724138\" width=\"57.724138\" x=\"149.237931\" y=\"125.803636\"/>\r\n  </clipPath>\r\n  <clipPath id=\"p4acda654d3\">\r\n   <rect height=\"57.724138\" width=\"57.724138\" x=\"218.506897\" y=\"125.803636\"/>\r\n  </clipPath>\r\n  <clipPath id=\"p136543e668\">\r\n   <rect height=\"57.724138\" width=\"57.724138\" x=\"287.775862\" y=\"125.803636\"/>\r\n  </clipPath>\r\n </defs>\r\n</svg>\r\n",
      "image/png": "[encoded data removed]"
     },
     "metadata": {}
    }
   ],
   "source": [
    "fig, axes = plt.subplots(2,5, subplot_kw=dict(xticks=[], yticks=[]))\n",
    "for ax, digit in zip(axes.flat, digits.data[:10]):  # 10 digits\n",
    "    ax.imshow(digit.reshape(8,8), cmap=\"gray\")      # size 64 px"
   ]
  },
  {
   "cell_type": "code",
   "execution_count": 30,
   "metadata": {},
   "outputs": [
    {
     "output_type": "execute_result",
     "data": {
      "text/plain": [
       "(10, 64)"
      ]
     },
     "metadata": {},
     "execution_count": 30
    }
   ],
   "source": [
    "from sklearn.cluster import KMeans\n",
    "model=KMeans(n_clusters = 10, random_state=0)\n",
    "model.fit(digits.data)\n",
    "model.cluster_centers_.shape"
   ]
  },
  {
   "cell_type": "code",
   "execution_count": 31,
   "metadata": {},
   "outputs": [],
   "source": [
    "import scipy\n",
    "def find_permutation(n_clusters, real_labels, labels):\n",
    "    permutation=[]\n",
    "    for i in range(n_clusters):\n",
    "        idx = labels == i\n",
    "        new_label=scipy.stats.mode(real_labels[idx])[0][0]  # Choose the most common label among data points in the cluster\n",
    "        permutation.append(new_label)\n",
    "    return permutation"
   ]
  },
  {
   "cell_type": "code",
   "execution_count": 32,
   "metadata": {},
   "outputs": [
    {
     "output_type": "stream",
     "name": "stdout",
     "text": [
      "[4, 3, 1, 2, 9, 0, 7, 6, 5, 8]\nAccuracy score is 0.7952142459654981\n"
     ]
    }
   ],
   "source": [
    "from sklearn.metrics import accuracy_score\n",
    "permutation3 = find_permutation(10, digits.target, model.labels_)\n",
    "print(permutation3)\n",
    "acc = accuracy_score(digits.target, [ permutation3[label] for label in model.labels_])\n",
    "print(\"Accuracy score is\", acc)"
   ]
  },
  {
   "cell_type": "code",
   "execution_count": null,
   "metadata": {},
   "outputs": [],
   "source": []
  }
 ]
}